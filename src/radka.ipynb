{
 "cells": [
  {
   "cell_type": "code",
   "execution_count": null,
   "metadata": {},
   "outputs": [],
   "source": [
    "def confidence_interval(mean, sigma):\n",
    "    n = 15\n",
    "    #Xn = 1/n*(sum(data))\n",
    "    Xn = mean\n",
    "    alpha = 0.05\n",
    "\n",
    "    critical_value = norm.isf(alpha/2)\n",
    "\n",
    "    print('\\n{0}% kritická hodnota rozdělení N(0,1):\\nz({1})={2:.4f}'\n",
    "          .format(100*alpha/2, alpha/2, critical_value))\n",
    "\n",
    "    delta = critical_value * sigma / np.sqrt(n)\n",
    "    CI = np.array([Xn - delta, Xn + delta])\n",
    "    return CI\n",
    "    \n",
    "print(\"Confidence interval of Affected: \",confidence_interval(af))\n",
    "print(\"Confidence interval of Unaffected: \",confidence_interval(un))\n",
    "\n",
    "\n"
   ]
  }
 ],
 "metadata": {
  "kernelspec": {
   "display_name": "Python 3",
   "language": "python",
   "name": "python3"
  },
  "language_info": {
   "codemirror_mode": {
    "name": "ipython",
    "version": 3
   },
   "file_extension": ".py",
   "mimetype": "text/x-python",
   "name": "python",
   "nbconvert_exporter": "python",
   "pygments_lexer": "ipython3",
   "version": "3.6.6"
  },
  "toc": {
   "base_numbering": 1,
   "nav_menu": {},
   "number_sections": false,
   "sideBar": false,
   "skip_h1_title": false,
   "title_cell": "Table of Contents",
   "title_sidebar": "Contents",
   "toc_cell": false,
   "toc_position": {},
   "toc_section_display": false,
   "toc_window_display": false
  }
 },
 "nbformat": 4,
 "nbformat_minor": 2
}
