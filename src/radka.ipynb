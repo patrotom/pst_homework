{
 "cells": [
  {
   "cell_type": "code",
   "execution_count": null,
   "metadata": {},
   "outputs": [],
   "source": [
    "def confidence_interval(Xn, sigma):\n",
    "    n = 15\n",
    "    #Xn = 1/n*(sum(data))\n",
    "    alpha = 0.05\n",
    "\n",
    "    critical_value = norm.isf(alpha/2)\n",
    "\n",
    "    print('\\n{0}% kritická hodnota rozdělení N(0,1):\\nz({1})={2:.4f}'\n",
    "          .format(100*alpha/2, alpha/2, critical_value))\n",
    "\n",
    "    delta = critical_value * sigma / np.sqrt(n)\n",
    "    CI = np.array([Xn - delta, Xn + delta])\n",
    "    return CI\n",
    "    \n",
    "print(\"Confidence interval of Affected: \",confidence_interval(af_mean,af_sigma))\n",
    "print(\"Confidence interval of Unaffected: \",confidence_interval(un_mean,un_sigma))\n",
    "\n",
    "\n",
    "\n"
   ]
  },
  {
   "cell_type": "code",
   "execution_count": null,
   "metadata": {},
   "outputs": [],
   "source": [
    "gen_af = np.random.normal(af_mean, af_sigma ,100)\n",
    "gen_un = np.random.normal(un_mean ,un_sigma ,100)\n",
    "\n",
    "plt.figure(figsize=(15,3))\n",
    "plt.subplot(1,2,1)\n",
    "plt.hist(gen_un, 9, (un_lb,un_ub), facecolor = 'g', edgecolor = 'black')\n",
    "plt.xlabel('Values')\n",
    "plt.ylabel('Frequency')\n",
    "plt.title('Unaffected simulated values')\n",
    "\n",
    "plt.subplot(1,2,2)\n",
    "plt.hist(un_np, 9, (un_lb,un_ub), facecolor = 'b', edgecolor = 'black')\n",
    "plt.xlabel('Values')\n",
    "plt.ylabel('Frequency')\n",
    "plt.title('Unaffected real values')\n",
    "\n",
    "plt.show()\n",
    "\n",
    "plt.figure(figsize=(15,3))\n",
    "plt.subplot(1,2,1)\n",
    "plt.hist(gen_af, 9, (af_lb,af_ub), facecolor = 'g', edgecolor = 'black')\n",
    "plt.xlabel('Values')\n",
    "plt.ylabel('Frequency')\n",
    "plt.title('Affected simulated values')\n",
    "\n",
    "plt.subplot(1,2,2)\n",
    "plt.hist(af_np, 9, (af_lb,af_ub), facecolor = 'r', edgecolor = 'black')\n",
    "plt.xlabel('Values')\n",
    "plt.ylabel('Frequency')\n",
    "plt.title('Affected real values')\n",
    "\n",
    "plt.show()"
   ]
  }
 ],
 "metadata": {
  "kernelspec": {
   "display_name": "Python 3",
   "language": "python",
   "name": "python3"
  },
  "language_info": {
   "codemirror_mode": {
    "name": "ipython",
    "version": 3
   },
   "file_extension": ".py",
   "mimetype": "text/x-python",
   "name": "python",
   "nbconvert_exporter": "python",
   "pygments_lexer": "ipython3",
   "version": "3.6.7"
  },
  "toc": {
   "base_numbering": 1,
   "nav_menu": {},
   "number_sections": false,
   "sideBar": false,
   "skip_h1_title": false,
   "title_cell": "Table of Contents",
   "title_sidebar": "Contents",
   "toc_cell": false,
   "toc_position": {},
   "toc_section_display": false,
   "toc_window_display": false
  }
 },
 "nbformat": 4,
 "nbformat_minor": 2
}
